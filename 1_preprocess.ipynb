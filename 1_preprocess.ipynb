{
 "cells": [
  {
   "cell_type": "code",
   "execution_count": 1,
   "metadata": {
    "collapsed": true
   },
   "outputs": [],
   "source": [
    "# Required for xgboost windows.\n",
    "# See: https://www.ibm.com/developerworks/community/blogs/jfp/entry/Installing_XGBoost_For_Anaconda_on_Windows?lang=en\n",
    "import os\n",
    "\n",
    "mingw_path = 'C:\\\\Program Files\\\\mingw-w64\\\\x86_64-6.2.0-posix-seh-rt_v5-rev1\\\\mingw64\\\\bin'\n",
    "\n",
    "os.environ['PATH'] = mingw_path + ';' + os.environ['PATH']"
   ]
  },
  {
   "cell_type": "code",
   "execution_count": 5,
   "metadata": {
    "collapsed": false
   },
   "outputs": [],
   "source": [
    "import xgboost as xgb\n",
    "import numpy as np\n",
    "import pandas as pd\n",
    "import matplotlib.pyplot as plt\n",
    "import matplotlib.cm\n",
    "import seaborn as sns\n",
    "import re\n",
    "from mpl_toolkits.basemap import Basemap\n",
    "from IPython.display import display # Allows the use of display() for DataFrames\n",
    "# Show matplotlib plots inline (nicely formatted in the notebook)\n",
    "%matplotlib inline"
   ]
  },
  {
   "cell_type": "code",
   "execution_count": 3,
   "metadata": {
    "collapsed": false
   },
   "outputs": [
    {
     "name": "stdout",
     "output_type": "stream",
     "text": [
      "Training set has 878049 rows and 9 columns.\n",
      "Testing set has 884262 rows and 7 columns.\n"
     ]
    }
   ],
   "source": [
    "# Load training and testing datasets\n",
    "df_train = pd.read_csv(\"train.csv\")\n",
    "df_test = pd.read_csv(\"test.csv\")\n",
    "\n",
    "# Check dataset dimensions\n",
    "print \"Training set has {} rows and {} columns.\".format(*df_train.shape)\n",
    "print \"Testing set has {} rows and {} columns.\".format(*df_test.shape)"
   ]
  },
  {
   "cell_type": "markdown",
   "metadata": {},
   "source": [
    "# Data Exploration"
   ]
  },
  {
   "cell_type": "code",
   "execution_count": 4,
   "metadata": {
    "collapsed": false
   },
   "outputs": [
    {
     "name": "stdout",
     "output_type": "stream",
     "text": [
      "Training dataset sample:\n"
     ]
    },
    {
     "data": {
      "text/html": [
       "<div>\n",
       "<table border=\"1\" class=\"dataframe\">\n",
       "  <thead>\n",
       "    <tr style=\"text-align: right;\">\n",
       "      <th></th>\n",
       "      <th>Dates</th>\n",
       "      <th>Category</th>\n",
       "      <th>Descript</th>\n",
       "      <th>DayOfWeek</th>\n",
       "      <th>PdDistrict</th>\n",
       "      <th>Resolution</th>\n",
       "      <th>Address</th>\n",
       "      <th>X</th>\n",
       "      <th>Y</th>\n",
       "    </tr>\n",
       "  </thead>\n",
       "  <tbody>\n",
       "    <tr>\n",
       "      <th>0</th>\n",
       "      <td>2015-05-13 23:53:00</td>\n",
       "      <td>WARRANTS</td>\n",
       "      <td>WARRANT ARREST</td>\n",
       "      <td>Wednesday</td>\n",
       "      <td>NORTHERN</td>\n",
       "      <td>ARREST, BOOKED</td>\n",
       "      <td>OAK ST / LAGUNA ST</td>\n",
       "      <td>-122.425892</td>\n",
       "      <td>37.774599</td>\n",
       "    </tr>\n",
       "    <tr>\n",
       "      <th>1</th>\n",
       "      <td>2015-05-13 23:53:00</td>\n",
       "      <td>OTHER OFFENSES</td>\n",
       "      <td>TRAFFIC VIOLATION ARREST</td>\n",
       "      <td>Wednesday</td>\n",
       "      <td>NORTHERN</td>\n",
       "      <td>ARREST, BOOKED</td>\n",
       "      <td>OAK ST / LAGUNA ST</td>\n",
       "      <td>-122.425892</td>\n",
       "      <td>37.774599</td>\n",
       "    </tr>\n",
       "    <tr>\n",
       "      <th>2</th>\n",
       "      <td>2015-05-13 23:33:00</td>\n",
       "      <td>OTHER OFFENSES</td>\n",
       "      <td>TRAFFIC VIOLATION ARREST</td>\n",
       "      <td>Wednesday</td>\n",
       "      <td>NORTHERN</td>\n",
       "      <td>ARREST, BOOKED</td>\n",
       "      <td>VANNESS AV / GREENWICH ST</td>\n",
       "      <td>-122.424363</td>\n",
       "      <td>37.800414</td>\n",
       "    </tr>\n",
       "    <tr>\n",
       "      <th>3</th>\n",
       "      <td>2015-05-13 23:30:00</td>\n",
       "      <td>LARCENY/THEFT</td>\n",
       "      <td>GRAND THEFT FROM LOCKED AUTO</td>\n",
       "      <td>Wednesday</td>\n",
       "      <td>NORTHERN</td>\n",
       "      <td>NONE</td>\n",
       "      <td>1500 Block of LOMBARD ST</td>\n",
       "      <td>-122.426995</td>\n",
       "      <td>37.800873</td>\n",
       "    </tr>\n",
       "    <tr>\n",
       "      <th>4</th>\n",
       "      <td>2015-05-13 23:30:00</td>\n",
       "      <td>LARCENY/THEFT</td>\n",
       "      <td>GRAND THEFT FROM LOCKED AUTO</td>\n",
       "      <td>Wednesday</td>\n",
       "      <td>PARK</td>\n",
       "      <td>NONE</td>\n",
       "      <td>100 Block of BRODERICK ST</td>\n",
       "      <td>-122.438738</td>\n",
       "      <td>37.771541</td>\n",
       "    </tr>\n",
       "  </tbody>\n",
       "</table>\n",
       "</div>"
      ],
      "text/plain": [
       "                 Dates        Category                      Descript  \\\n",
       "0  2015-05-13 23:53:00        WARRANTS                WARRANT ARREST   \n",
       "1  2015-05-13 23:53:00  OTHER OFFENSES      TRAFFIC VIOLATION ARREST   \n",
       "2  2015-05-13 23:33:00  OTHER OFFENSES      TRAFFIC VIOLATION ARREST   \n",
       "3  2015-05-13 23:30:00   LARCENY/THEFT  GRAND THEFT FROM LOCKED AUTO   \n",
       "4  2015-05-13 23:30:00   LARCENY/THEFT  GRAND THEFT FROM LOCKED AUTO   \n",
       "\n",
       "   DayOfWeek PdDistrict      Resolution                    Address  \\\n",
       "0  Wednesday   NORTHERN  ARREST, BOOKED         OAK ST / LAGUNA ST   \n",
       "1  Wednesday   NORTHERN  ARREST, BOOKED         OAK ST / LAGUNA ST   \n",
       "2  Wednesday   NORTHERN  ARREST, BOOKED  VANNESS AV / GREENWICH ST   \n",
       "3  Wednesday   NORTHERN            NONE   1500 Block of LOMBARD ST   \n",
       "4  Wednesday       PARK            NONE  100 Block of BRODERICK ST   \n",
       "\n",
       "            X          Y  \n",
       "0 -122.425892  37.774599  \n",
       "1 -122.425892  37.774599  \n",
       "2 -122.424363  37.800414  \n",
       "3 -122.426995  37.800873  \n",
       "4 -122.438738  37.771541  "
      ]
     },
     "metadata": {},
     "output_type": "display_data"
    },
    {
     "name": "stdout",
     "output_type": "stream",
     "text": [
      "Basic statistics for numerical data:\n"
     ]
    },
    {
     "data": {
      "text/html": [
       "<div>\n",
       "<table border=\"1\" class=\"dataframe\">\n",
       "  <thead>\n",
       "    <tr style=\"text-align: right;\">\n",
       "      <th></th>\n",
       "      <th>X</th>\n",
       "      <th>Y</th>\n",
       "    </tr>\n",
       "  </thead>\n",
       "  <tbody>\n",
       "    <tr>\n",
       "      <th>count</th>\n",
       "      <td>878049.000000</td>\n",
       "      <td>878049.000000</td>\n",
       "    </tr>\n",
       "    <tr>\n",
       "      <th>mean</th>\n",
       "      <td>-122.422616</td>\n",
       "      <td>37.771020</td>\n",
       "    </tr>\n",
       "    <tr>\n",
       "      <th>std</th>\n",
       "      <td>0.030354</td>\n",
       "      <td>0.456893</td>\n",
       "    </tr>\n",
       "    <tr>\n",
       "      <th>min</th>\n",
       "      <td>-122.513642</td>\n",
       "      <td>37.707879</td>\n",
       "    </tr>\n",
       "    <tr>\n",
       "      <th>25%</th>\n",
       "      <td>-122.432952</td>\n",
       "      <td>37.752427</td>\n",
       "    </tr>\n",
       "    <tr>\n",
       "      <th>50%</th>\n",
       "      <td>-122.416420</td>\n",
       "      <td>37.775421</td>\n",
       "    </tr>\n",
       "    <tr>\n",
       "      <th>75%</th>\n",
       "      <td>-122.406959</td>\n",
       "      <td>37.784369</td>\n",
       "    </tr>\n",
       "    <tr>\n",
       "      <th>max</th>\n",
       "      <td>-120.500000</td>\n",
       "      <td>90.000000</td>\n",
       "    </tr>\n",
       "  </tbody>\n",
       "</table>\n",
       "</div>"
      ],
      "text/plain": [
       "                   X              Y\n",
       "count  878049.000000  878049.000000\n",
       "mean     -122.422616      37.771020\n",
       "std         0.030354       0.456893\n",
       "min      -122.513642      37.707879\n",
       "25%      -122.432952      37.752427\n",
       "50%      -122.416420      37.775421\n",
       "75%      -122.406959      37.784369\n",
       "max      -120.500000      90.000000"
      ]
     },
     "metadata": {},
     "output_type": "display_data"
    },
    {
     "name": "stdout",
     "output_type": "stream",
     "text": [
      "Testing dataset sample:\n"
     ]
    },
    {
     "data": {
      "text/html": [
       "<div>\n",
       "<table border=\"1\" class=\"dataframe\">\n",
       "  <thead>\n",
       "    <tr style=\"text-align: right;\">\n",
       "      <th></th>\n",
       "      <th>Id</th>\n",
       "      <th>Dates</th>\n",
       "      <th>DayOfWeek</th>\n",
       "      <th>PdDistrict</th>\n",
       "      <th>Address</th>\n",
       "      <th>X</th>\n",
       "      <th>Y</th>\n",
       "    </tr>\n",
       "  </thead>\n",
       "  <tbody>\n",
       "    <tr>\n",
       "      <th>0</th>\n",
       "      <td>0</td>\n",
       "      <td>2015-05-10 23:59:00</td>\n",
       "      <td>Sunday</td>\n",
       "      <td>BAYVIEW</td>\n",
       "      <td>2000 Block of THOMAS AV</td>\n",
       "      <td>-122.399588</td>\n",
       "      <td>37.735051</td>\n",
       "    </tr>\n",
       "    <tr>\n",
       "      <th>1</th>\n",
       "      <td>1</td>\n",
       "      <td>2015-05-10 23:51:00</td>\n",
       "      <td>Sunday</td>\n",
       "      <td>BAYVIEW</td>\n",
       "      <td>3RD ST / REVERE AV</td>\n",
       "      <td>-122.391523</td>\n",
       "      <td>37.732432</td>\n",
       "    </tr>\n",
       "    <tr>\n",
       "      <th>2</th>\n",
       "      <td>2</td>\n",
       "      <td>2015-05-10 23:50:00</td>\n",
       "      <td>Sunday</td>\n",
       "      <td>NORTHERN</td>\n",
       "      <td>2000 Block of GOUGH ST</td>\n",
       "      <td>-122.426002</td>\n",
       "      <td>37.792212</td>\n",
       "    </tr>\n",
       "    <tr>\n",
       "      <th>3</th>\n",
       "      <td>3</td>\n",
       "      <td>2015-05-10 23:45:00</td>\n",
       "      <td>Sunday</td>\n",
       "      <td>INGLESIDE</td>\n",
       "      <td>4700 Block of MISSION ST</td>\n",
       "      <td>-122.437394</td>\n",
       "      <td>37.721412</td>\n",
       "    </tr>\n",
       "    <tr>\n",
       "      <th>4</th>\n",
       "      <td>4</td>\n",
       "      <td>2015-05-10 23:45:00</td>\n",
       "      <td>Sunday</td>\n",
       "      <td>INGLESIDE</td>\n",
       "      <td>4700 Block of MISSION ST</td>\n",
       "      <td>-122.437394</td>\n",
       "      <td>37.721412</td>\n",
       "    </tr>\n",
       "  </tbody>\n",
       "</table>\n",
       "</div>"
      ],
      "text/plain": [
       "   Id                Dates DayOfWeek PdDistrict                   Address  \\\n",
       "0   0  2015-05-10 23:59:00    Sunday    BAYVIEW   2000 Block of THOMAS AV   \n",
       "1   1  2015-05-10 23:51:00    Sunday    BAYVIEW        3RD ST / REVERE AV   \n",
       "2   2  2015-05-10 23:50:00    Sunday   NORTHERN    2000 Block of GOUGH ST   \n",
       "3   3  2015-05-10 23:45:00    Sunday  INGLESIDE  4700 Block of MISSION ST   \n",
       "4   4  2015-05-10 23:45:00    Sunday  INGLESIDE  4700 Block of MISSION ST   \n",
       "\n",
       "            X          Y  \n",
       "0 -122.399588  37.735051  \n",
       "1 -122.391523  37.732432  \n",
       "2 -122.426002  37.792212  \n",
       "3 -122.437394  37.721412  \n",
       "4 -122.437394  37.721412  "
      ]
     },
     "metadata": {},
     "output_type": "display_data"
    }
   ],
   "source": [
    "# Show header and first few rows of training dataset\n",
    "print \"Training dataset sample:\"\n",
    "display(df_train.head())\n",
    "\n",
    "# Show basic stats for numerical categories\n",
    "print \"Basic statistics for numerical data:\"\n",
    "display(df_train.describe())\n",
    "\n",
    "# Check testing dataset\n",
    "print \"Testing dataset sample:\"\n",
    "display(df_test.head())"
   ]
  },
  {
   "cell_type": "code",
   "execution_count": 5,
   "metadata": {
    "collapsed": false
   },
   "outputs": [
    {
     "name": "stdout",
     "output_type": "stream",
     "text": [
      "Longitude (X) and latitude (Y) information\n"
     ]
    },
    {
     "data": {
      "text/plain": [
       "<seaborn.axisgrid.PairGrid at 0x4104e10>"
      ]
     },
     "execution_count": 5,
     "metadata": {},
     "output_type": "execute_result"
    },
    {
     "data": {
      "image/png": "[encoded data removed]",
      "text/plain": [
       "<matplotlib.figure.Figure at 0xcc3f0f0>"
      ]
     },
     "metadata": {},
     "output_type": "display_data"
    }
   ],
   "source": [
    "# Visualize longitude and latitude\n",
    "print \"Longitude (X) and latitude (Y) information\"\n",
    "sns.pairplot(df_train)"
   ]
  },
  {
   "cell_type": "markdown",
   "metadata": {},
   "source": [
    "From the pairplot, it seems that there are a few anomalies in our data.\n",
    "Namely, some of the latitude (Y) of the data points are +90 degrees. \n",
    "This means that location wise, these points are at the top of the earth! No where within the vicinity of SF Bay.\n",
    "We will need to treat them as outliers and remove them."
   ]
  },
  {
   "cell_type": "code",
   "execution_count": 6,
   "metadata": {
    "collapsed": false
   },
   "outputs": [
    {
     "data": {
      "text/plain": [
       "<matplotlib.axes._subplots.AxesSubplot at 0xcc3f048>"
      ]
     },
     "execution_count": 6,
     "metadata": {},
     "output_type": "execute_result"
    },
    {
     "data": {
      "image/png": "[encoded data removed]",
      "text/plain": [
       "<matplotlib.figure.Figure at 0x14b6c9b0>"
      ]
     },
     "metadata": {},
     "output_type": "display_data"
    }
   ],
   "source": [
    "# Now for visualizing the categorical features\n",
    "plt.figure(figsize=(20, 20))\n",
    "sns.countplot(y=df_train['Category'], data=df_train)"
   ]
  },
  {
   "cell_type": "code",
   "execution_count": 7,
   "metadata": {
    "collapsed": false
   },
   "outputs": [
    {
     "name": "stdout",
     "output_type": "stream",
     "text": [
      "LARCENY/THEFT     174900\n",
      "OTHER OFFENSES    126182\n",
      "NON-CRIMINAL       92304\n",
      "ASSAULT            76876\n",
      "DRUG/NARCOTIC      53971\n",
      "VEHICLE THEFT      53781\n",
      "VANDALISM          44725\n",
      "WARRANTS           42214\n",
      "BURGLARY           36755\n",
      "SUSPICIOUS OCC     31414\n",
      "Name: Category, dtype: int64\n"
     ]
    },
    {
     "data": {
      "text/plain": [
       "<matplotlib.axes._subplots.AxesSubplot at 0x15913b38>"
      ]
     },
     "execution_count": 7,
     "metadata": {},
     "output_type": "execute_result"
    },
    {
     "data": {
      "image/png": "[encoded data removed]",
      "text/plain": [
       "<matplotlib.figure.Figure at 0x1592b0f0>"
      ]
     },
     "metadata": {},
     "output_type": "display_data"
    }
   ],
   "source": [
    "# Inspect the tpo 10 counts of Category\n",
    "category_counts = df_train['Category'].value_counts()\n",
    "print category_counts[:10]\n",
    "\n",
    "# Plot the top 10 counts\n",
    "category_counts[:10].plot(kind='bar')"
   ]
  },
  {
   "cell_type": "markdown",
   "metadata": {},
   "source": [
    "The most common Category is LARCENY/THEFT.\n",
    "Generally, the Category distribution is unbalanced.\n",
    "This is the target variable to be predicted.\n",
    "Care must be taken when choosing which performance metrics to use for our model later on"
   ]
  },
  {
   "cell_type": "code",
   "execution_count": 8,
   "metadata": {
    "collapsed": false,
    "scrolled": true
   },
   "outputs": [
    {
     "data": {
      "text/plain": [
       "<matplotlib.axes._subplots.AxesSubplot at 0xd06abe0>"
      ]
     },
     "execution_count": 8,
     "metadata": {},
     "output_type": "execute_result"
    },
    {
     "data": {
      "image/png": "[encoded data removed]",
      "text/plain": [
       "<matplotlib.figure.Figure at 0x414b390>"
      ]
     },
     "metadata": {},
     "output_type": "display_data"
    }
   ],
   "source": [
    "# Visualizing category: DayOfWeek\n",
    "sns.countplot(x=df_train['DayOfWeek'], data=df_train)"
   ]
  },
  {
   "cell_type": "markdown",
   "metadata": {},
   "source": [
    "The DaysOfWeek is a much more balanced distribution."
   ]
  },
  {
   "cell_type": "code",
   "execution_count": 9,
   "metadata": {
    "collapsed": false
   },
   "outputs": [
    {
     "data": {
      "text/plain": [
       "<matplotlib.axes._subplots.AxesSubplot at 0x13e40588>"
      ]
     },
     "execution_count": 9,
     "metadata": {},
     "output_type": "execute_result"
    },
    {
     "data": {
      "image/png": "[encoded data removed]",
      "text/plain": [
       "<matplotlib.figure.Figure at 0x13e40390>"
      ]
     },
     "metadata": {},
     "output_type": "display_data"
    }
   ],
   "source": [
    "# Now, we try visualizing PdDistrict\n",
    "plt.figure(figsize=(10, 10))\n",
    "sns.countplot(x=df_train['PdDistrict'], data=df_train)"
   ]
  },
  {
   "cell_type": "markdown",
   "metadata": {},
   "source": [
    "Locality-wise, it seems that the SOUTHERN police branch gets dispatched the most."
   ]
  },
  {
   "cell_type": "code",
   "execution_count": 10,
   "metadata": {
    "collapsed": false
   },
   "outputs": [
    {
     "name": "stdout",
     "output_type": "stream",
     "text": [
      "NONE                                      526790\n",
      "ARREST, BOOKED                            206403\n",
      "ARREST, CITED                              77004\n",
      "LOCATED                                    17101\n",
      "PSYCHOPATHIC CASE                          14534\n",
      "UNFOUNDED                                   9585\n",
      "JUVENILE BOOKED                             5564\n",
      "COMPLAINANT REFUSES TO PROSECUTE            3976\n",
      "DISTRICT ATTORNEY REFUSES TO PROSECUTE      3934\n",
      "NOT PROSECUTED                              3714\n",
      "Name: Resolution, dtype: int64\n"
     ]
    },
    {
     "data": {
      "text/plain": [
       "<matplotlib.axes._subplots.AxesSubplot at 0x15b36438>"
      ]
     },
     "execution_count": 10,
     "metadata": {},
     "output_type": "execute_result"
    },
    {
     "data": {
      "image/png": "[encoded data removed]",
      "text/plain": [
       "<matplotlib.figure.Figure at 0x15b5d6a0>"
      ]
     },
     "metadata": {},
     "output_type": "display_data"
    }
   ],
   "source": [
    "# Now, we try visualizing the top 10 Resolution\n",
    "resolution_counts = df_train['Resolution'].value_counts()\n",
    "print resolution_counts[:10]\n",
    "\n",
    "# Plot the top 10 counts\n",
    "resolution_counts[:10].plot(kind='bar')"
   ]
  },
  {
   "cell_type": "code",
   "execution_count": 11,
   "metadata": {
    "collapsed": false
   },
   "outputs": [
    {
     "name": "stdout",
     "output_type": "stream",
     "text": [
      "GRAND THEFT FROM LOCKED AUTO                 60022\n",
      "LOST PROPERTY                                31729\n",
      "BATTERY                                      27441\n",
      "STOLEN AUTOMOBILE                            26897\n",
      "DRIVERS LICENSE, SUSPENDED OR REVOKED        26839\n",
      "WARRANT ARREST                               23754\n",
      "SUSPICIOUS OCCURRENCE                        21891\n",
      "AIDED CASE, MENTAL DISTURBED                 21497\n",
      "PETTY THEFT FROM LOCKED AUTO                 19771\n",
      "MALICIOUS MISCHIEF, VANDALISM OF VEHICLES    17789\n",
      "Name: Descript, dtype: int64\n"
     ]
    },
    {
     "data": {
      "text/plain": [
       "<matplotlib.axes._subplots.AxesSubplot at 0x19aa7668>"
      ]
     },
     "execution_count": 11,
     "metadata": {},
     "output_type": "execute_result"
    },
    {
     "data": {
      "image/png": "[encoded data removed]",
      "text/plain": [
       "<matplotlib.figure.Figure at 0x15b737f0>"
      ]
     },
     "metadata": {},
     "output_type": "display_data"
    }
   ],
   "source": [
    "# Now, we try visualizing the top 10 Descript\n",
    "description_counts = df_train['Descript'].value_counts()\n",
    "print description_counts[:10]\n",
    "\n",
    "# Plot the top 10 counts\n",
    "description_counts[:10].plot(kind='bar')"
   ]
  },
  {
   "cell_type": "code",
   "execution_count": 12,
   "metadata": {
    "collapsed": false
   },
   "outputs": [
    {
     "name": "stdout",
     "output_type": "stream",
     "text": [
      "800 Block of BRYANT ST             26533\n",
      "800 Block of MARKET ST              6581\n",
      "2000 Block of MISSION ST            5097\n",
      "1000 Block of POTRERO AV            4063\n",
      "900 Block of MARKET ST              3251\n",
      "0 Block of TURK ST                  3228\n",
      "0 Block of 6TH ST                   2884\n",
      "300 Block of ELLIS ST               2703\n",
      "400 Block of ELLIS ST               2590\n",
      "16TH ST / MISSION ST                2504\n",
      "1000 Block of MARKET ST             2489\n",
      "1100 Block of MARKET ST             2319\n",
      "2000 Block of MARKET ST             2168\n",
      "100 Block of OFARRELL ST            2140\n",
      "700 Block of MARKET ST              2081\n",
      "3200 Block of 20TH AV               2035\n",
      "100 Block of 6TH ST                 1887\n",
      "500 Block of JOHNFKENNEDY DR        1824\n",
      "TURK ST / TAYLOR ST                 1810\n",
      "200 Block of TURK ST                1800\n",
      "0 Block of PHELAN AV                1791\n",
      "0 Block of UNITEDNATIONS PZ         1789\n",
      "0 Block of POWELL ST                1717\n",
      "100 Block of EDDY ST                1681\n",
      "1400 Block of PHELPS ST             1629\n",
      "300 Block of EDDY ST                1589\n",
      "100 Block of GOLDEN GATE AV         1353\n",
      "100 Block of POWELL ST              1333\n",
      "200 Block of INTERSTATE80 HY        1316\n",
      "MISSION ST / 16TH ST                1300\n",
      "                                   ...  \n",
      "FOERSTER ST / JOOST AV                 1\n",
      "TERESITA BL / GAVIOTA WY               1\n",
      "100 Block of CRISP RD                  1\n",
      "RANKIN ST / NEWCOMB AV                 1\n",
      "900 Block of SARGENT ST                1\n",
      "18TH ST / CLOVER ST                    1\n",
      "PANORAMA DR / OLYMPIA WY               1\n",
      "SAN JOSE AV / BADEN ST                 1\n",
      "OTSEGO AV / SANTAYNEZ AV               1\n",
      "SANTAYNEZ AV / OCEAN AV                1\n",
      "0 Block of COLIN PL                    1\n",
      "QUANE ST / 24TH ST                     1\n",
      "BENTON AV / COLLEGE AV                 1\n",
      "MEADOWBROOK DR / OCEAN AV              1\n",
      "200 Block of MT VERNON AV              1\n",
      "WAWONA ST / 38TH AV                    1\n",
      "STANLEY ST / ORIZABA AV                1\n",
      "ANZA ST / 27TH AV                      1\n",
      "WHITNEY YOUNG CR / CARPENTER CT        1\n",
      "CLAREMONT BL / KENSINGTON WY           1\n",
      "ULLOA ST / 38TH AV                     1\n",
      "BROOKLYN PL / SACRAMENTO ST            1\n",
      "DE BOOM ST / 2ND ST                    1\n",
      "EXECUTIVE PARK BL / ALANA WY           1\n",
      "CALIFORNIA ST / 20TH AV                1\n",
      "2600 Block of TARAVAL ST               1\n",
      "0 Block of PALOALTO AV                 1\n",
      "ALEMANY BL / RAMSELL ST                1\n",
      "2800 Block of MARKET ST                1\n",
      "KRAMER PL / GREENWICH ST               1\n",
      "Name: Address, dtype: int64\n"
     ]
    },
    {
     "data": {
      "text/plain": [
       "<matplotlib.axes._subplots.AxesSubplot at 0x1985d940>"
      ]
     },
     "execution_count": 12,
     "metadata": {},
     "output_type": "execute_result"
    },
    {
     "data": {
      "image/png": "[encoded data removed]",
      "text/plain": [
       "<matplotlib.figure.Figure at 0x13e34fd0>"
      ]
     },
     "metadata": {},
     "output_type": "display_data"
    }
   ],
   "source": [
    "# Now, we try visualizing the top 10 Address\n",
    "address_counts = df_train['Address'].value_counts()\n",
    "#print address_counts[:10]\n",
    "print address_counts\n",
    "\n",
    "# Plot the top 10 counts\n",
    "address_counts[:10].plot(kind='bar')"
   ]
  },
  {
   "cell_type": "markdown",
   "metadata": {},
   "source": [
    "The Description, Resolution and Address have loads of unique values. Thus, feeding in raw values into a model would not make sense.\n",
    "We will need to somehow simplify and preprocess the data to a more manageable format.\n",
    "One possible solution for the Address is to reduce the address to their street/avenue names only.\n",
    "A point to note here is that there are two different entries for the same address, namely 16TH ST / MISSION ST and MISSION ST / 16TH ST. This is probably caused by data entry errors, so we will fix them into one entry only. \n",
    "Then, dummy variables can be introduced for other categorical data."
   ]
  },
  {
   "cell_type": "code",
   "execution_count": 4,
   "metadata": {
    "collapsed": false
   },
   "outputs": [
    {
     "data": {
      "text/html": [
       "<div>\n",
       "<table border=\"1\" class=\"dataframe\">\n",
       "  <thead>\n",
       "    <tr style=\"text-align: right;\">\n",
       "      <th></th>\n",
       "      <th>X</th>\n",
       "      <th>Y</th>\n",
       "    </tr>\n",
       "  </thead>\n",
       "  <tbody>\n",
       "    <tr>\n",
       "      <th>count</th>\n",
       "      <td>877982.000000</td>\n",
       "      <td>877982.000000</td>\n",
       "    </tr>\n",
       "    <tr>\n",
       "      <th>mean</th>\n",
       "      <td>-122.422763</td>\n",
       "      <td>37.767035</td>\n",
       "    </tr>\n",
       "    <tr>\n",
       "      <th>std</th>\n",
       "      <td>0.025285</td>\n",
       "      <td>0.024165</td>\n",
       "    </tr>\n",
       "    <tr>\n",
       "      <th>min</th>\n",
       "      <td>-122.513642</td>\n",
       "      <td>37.707879</td>\n",
       "    </tr>\n",
       "    <tr>\n",
       "      <th>25%</th>\n",
       "      <td>-122.432952</td>\n",
       "      <td>37.752427</td>\n",
       "    </tr>\n",
       "    <tr>\n",
       "      <th>50%</th>\n",
       "      <td>-122.416420</td>\n",
       "      <td>37.775421</td>\n",
       "    </tr>\n",
       "    <tr>\n",
       "      <th>75%</th>\n",
       "      <td>-122.406959</td>\n",
       "      <td>37.784368</td>\n",
       "    </tr>\n",
       "    <tr>\n",
       "      <th>max</th>\n",
       "      <td>-122.364937</td>\n",
       "      <td>37.819975</td>\n",
       "    </tr>\n",
       "  </tbody>\n",
       "</table>\n",
       "</div>"
      ],
      "text/plain": [
       "                   X              Y\n",
       "count  877982.000000  877982.000000\n",
       "mean     -122.422763      37.767035\n",
       "std         0.025285       0.024165\n",
       "min      -122.513642      37.707879\n",
       "25%      -122.432952      37.752427\n",
       "50%      -122.416420      37.775421\n",
       "75%      -122.406959      37.784368\n",
       "max      -122.364937      37.819975"
      ]
     },
     "metadata": {},
     "output_type": "display_data"
    }
   ],
   "source": [
    "# We remove the outliers before visualizing in a map\n",
    "# Remove all +90 latitude data points\n",
    "df_train = df_train[df_train.Y != 90]\n",
    "display(df_train.describe())"
   ]
  },
  {
   "cell_type": "code",
   "execution_count": 4,
   "metadata": {
    "collapsed": false
   },
   "outputs": [
    {
     "name": "stdout",
     "output_type": "stream",
     "text": [
      "1728.71418678 42551.4249722\n"
     ]
    },
    {
     "data": {
      "text/html": [
       "<div>\n",
       "<table border=\"1\" class=\"dataframe\">\n",
       "  <thead>\n",
       "    <tr style=\"text-align: right;\">\n",
       "      <th></th>\n",
       "      <th>Counts</th>\n",
       "      <th>Z_score</th>\n",
       "    </tr>\n",
       "  </thead>\n",
       "  <tbody>\n",
       "    <tr>\n",
       "      <th>LARCENY/THEFT</th>\n",
       "      <td>174885</td>\n",
       "      <td>4.006869</td>\n",
       "    </tr>\n",
       "    <tr>\n",
       "      <th>OTHER OFFENSES</th>\n",
       "      <td>126165</td>\n",
       "      <td>2.861902</td>\n",
       "    </tr>\n",
       "    <tr>\n",
       "      <th>NON-CRIMINAL</th>\n",
       "      <td>92300</td>\n",
       "      <td>2.066041</td>\n",
       "    </tr>\n",
       "    <tr>\n",
       "      <th>ASSAULT</th>\n",
       "      <td>76872</td>\n",
       "      <td>1.703468</td>\n",
       "    </tr>\n",
       "    <tr>\n",
       "      <th>DRUG/NARCOTIC</th>\n",
       "      <td>53971</td>\n",
       "      <td>1.165272</td>\n",
       "    </tr>\n",
       "  </tbody>\n",
       "</table>\n",
       "</div>"
      ],
      "text/plain": [
       "                Counts   Z_score\n",
       "LARCENY/THEFT   174885  4.006869\n",
       "OTHER OFFENSES  126165  2.861902\n",
       "NON-CRIMINAL     92300  2.066041\n",
       "ASSAULT          76872  1.703468\n",
       "DRUG/NARCOTIC    53971  1.165272"
      ]
     },
     "metadata": {},
     "output_type": "display_data"
    },
    {
     "data": {
      "text/html": [
       "<div>\n",
       "<table border=\"1\" class=\"dataframe\">\n",
       "  <thead>\n",
       "    <tr style=\"text-align: right;\">\n",
       "      <th></th>\n",
       "      <th>Counts</th>\n",
       "      <th>Z_score</th>\n",
       "    </tr>\n",
       "  </thead>\n",
       "  <tbody>\n",
       "    <tr>\n",
       "      <th>count</th>\n",
       "      <td>39.000000</td>\n",
       "      <td>39.000000</td>\n",
       "    </tr>\n",
       "    <tr>\n",
       "      <th>mean</th>\n",
       "      <td>22512.358974</td>\n",
       "      <td>1.305497</td>\n",
       "    </tr>\n",
       "    <tr>\n",
       "      <th>std</th>\n",
       "      <td>38071.035462</td>\n",
       "      <td>1.020326</td>\n",
       "    </tr>\n",
       "    <tr>\n",
       "      <th>min</th>\n",
       "      <td>6.000000</td>\n",
       "      <td>0.000000</td>\n",
       "    </tr>\n",
       "    <tr>\n",
       "      <th>25%</th>\n",
       "      <td>1195.500000</td>\n",
       "      <td>0.363137</td>\n",
       "    </tr>\n",
       "    <tr>\n",
       "      <th>50%</th>\n",
       "      <td>4387.000000</td>\n",
       "      <td>1.183539</td>\n",
       "    </tr>\n",
       "    <tr>\n",
       "      <th>75%</th>\n",
       "      <td>28700.500000</td>\n",
       "      <td>2.248781</td>\n",
       "    </tr>\n",
       "    <tr>\n",
       "      <th>max</th>\n",
       "      <td>174885.000000</td>\n",
       "      <td>4.006869</td>\n",
       "    </tr>\n",
       "  </tbody>\n",
       "</table>\n",
       "</div>"
      ],
      "text/plain": [
       "              Counts    Z_score\n",
       "count      39.000000  39.000000\n",
       "mean    22512.358974   1.305497\n",
       "std     38071.035462   1.020326\n",
       "min         6.000000   0.000000\n",
       "25%      1195.500000   0.363137\n",
       "50%      4387.000000   1.183539\n",
       "75%     28700.500000   2.248781\n",
       "max    174885.000000   4.006869"
      ]
     },
     "metadata": {},
     "output_type": "display_data"
    },
    {
     "data": {
      "text/html": [
       "<div>\n",
       "<table border=\"1\" class=\"dataframe\">\n",
       "  <thead>\n",
       "    <tr style=\"text-align: right;\">\n",
       "      <th></th>\n",
       "      <th>Counts</th>\n",
       "      <th>Z_score</th>\n",
       "    </tr>\n",
       "  </thead>\n",
       "  <tbody>\n",
       "    <tr>\n",
       "      <th>LARCENY/THEFT</th>\n",
       "      <td>174885</td>\n",
       "      <td>4.006869</td>\n",
       "    </tr>\n",
       "  </tbody>\n",
       "</table>\n",
       "</div>"
      ],
      "text/plain": [
       "               Counts   Z_score\n",
       "LARCENY/THEFT  174885  4.006869"
      ]
     },
     "execution_count": 4,
     "metadata": {},
     "output_type": "execute_result"
    }
   ],
   "source": [
    "# Detect outliers in the training dataset with Mean Absolute Deviation (MAD)\n",
    "# http://eurekastatistics.com/using-the-median-absolute-deviation-to-find-outliers/\n",
    "\n",
    "# Create a DataFrame from value_counts() Series\n",
    "df_outlier = df_train['Category'].value_counts().to_frame(name='Counts')\n",
    "\n",
    "# Calculate basic statistics of the DataFrame distribution\n",
    "from statsmodels import robust\n",
    "mad = robust.mad(df_outlier['Counts'])\n",
    "median = np.median(df_outlier['Counts'])\n",
    "mean = np.mean(df_outlier['Counts'])\n",
    "std = np.std(df_outlier['Counts'])\n",
    "\n",
    "# Since our distribution of Category is skewed, \n",
    "# we need to implement a double MAD approach to catch low and high outliers\n",
    "mad_left = float(robust.mad(df_outlier[df_outlier['Counts'] < median]))\n",
    "mad_right = float(robust.mad(df_outlier[df_outlier['Counts'] >= median]))\n",
    "print mad_left, mad_right\n",
    "\n",
    "# Add new columns for the outlier calculations\n",
    "df_outlier['Z_score'] = df_outlier['Counts'].map(\n",
    "    lambda x: abs(x - median) / mad_right if x >= median else np.absolute(x - median) / mad_left)\n",
    "\n",
    "display(df_outlier.head())\n",
    "display(df_outlier.describe())\n",
    "df_outlier.loc[df_outlier['Z_score'] > 3]"
   ]
  },
  {
   "cell_type": "code",
   "execution_count": 19,
   "metadata": {
    "collapsed": false
   },
   "outputs": [
    {
     "data": {
      "image/png": "[encoded data removed]",
      "text/plain": [
       "<matplotlib.figure.Figure at 0x1654dc50>"
      ]
     },
     "metadata": {},
     "output_type": "display_data"
    }
   ],
   "source": [
    "# Visualize crime categories in a map\n",
    "# http://www.datadependence.com/2016/06/creating-map-visualisations-in-python/\n",
    "# westlimit=-122.56485; southlimit=37.591927; eastlimit=-122.308731; northlimit=37.845037\n",
    "\n",
    "fig, ax = plt.subplots(figsize=(10, 20))\n",
    "\n",
    "m = Basemap(resolution='l', # 'c': crude, 'l': low, 'i': intermediate, 'h': high, 'f': full map resolution\n",
    "            projection='merc', # Mercator type projection\n",
    "            #lat_0=37.718482, lon_0=-122.436791, # Map center coordinates\n",
    "            lat_0=37.771020, lon_0=-122.422763, # Map center coordinates\n",
    "            llcrnrlon=-122.56485, llcrnrlat=37.591927, # Lower left corner coordinates \n",
    "            urcrnrlon=-122.308731, urcrnrlat=37.845037) # Upper right corner coordinates\n",
    "\n",
    "# Define how the map is to be displayed\n",
    "m.drawmapboundary(fill_color='#46bcec')\n",
    "m.fillcontinents(color='#f2f2f2', lake_color='#46bcec')\n",
    "m.drawcoastlines()\n",
    "m.plot(df_train['X'], df_train['Y'], 'o', markersize=100)\n",
    "plt.show()"
   ]
  },
  {
   "cell_type": "markdown",
   "metadata": {},
   "source": [
    "# Data Preprocessing"
   ]
  },
  {
   "cell_type": "code",
   "execution_count": 5,
   "metadata": {
    "collapsed": false
   },
   "outputs": [
    {
     "data": {
      "text/plain": [
       "LARCENY/THEFT                  174885\n",
       "OTHER OFFENSES                 126165\n",
       "NON-CRIMINAL                    92300\n",
       "ASSAULT                         76872\n",
       "DRUG/NARCOTIC                   53971\n",
       "VEHICLE THEFT                   53772\n",
       "VANDALISM                       44724\n",
       "WARRANTS                        42206\n",
       "BURGLARY                        36754\n",
       "SUSPICIOUS OCC                  31412\n",
       "MISSING PERSON                  25989\n",
       "ROBBERY                         22999\n",
       "FRAUD                           16679\n",
       "FORGERY/COUNTERFEITING          10609\n",
       "SECONDARY CODES                  9985\n",
       "WEAPON LAWS                      8555\n",
       "PROSTITUTION                     7484\n",
       "TRESPASS                         7325\n",
       "STOLEN PROPERTY                  4539\n",
       "SEX OFFENSES FORCIBLE            4387\n",
       "DISORDERLY CONDUCT               4318\n",
       "DRUNKENNESS                      4280\n",
       "RECOVERED VEHICLE                3138\n",
       "KIDNAPPING                       2341\n",
       "DRIVING UNDER THE INFLUENCE      2268\n",
       "RUNAWAY                          1946\n",
       "LIQUOR LAWS                      1903\n",
       "ARSON                            1513\n",
       "LOITERING                        1225\n",
       "EMBEZZLEMENT                     1166\n",
       "SUICIDE                           508\n",
       "FAMILY OFFENSES                   491\n",
       "BAD CHECKS                        406\n",
       "Name: Category, dtype: int64"
      ]
     },
     "execution_count": 5,
     "metadata": {},
     "output_type": "execute_result"
    }
   ],
   "source": [
    "# Proceed to delete the low-boundary outliers, whilst keeping the high outliers\n",
    "df_train = df_train.loc[df_train['Category'] != 'BRIBERY']\n",
    "df_train = df_train.loc[df_train['Category'] != 'EXTORTION']\n",
    "df_train = df_train.loc[df_train['Category'] != 'SEX OFFENSES NON FORCIBLE']\n",
    "df_train = df_train.loc[df_train['Category'] != 'GAMBLING']\n",
    "df_train = df_train.loc[df_train['Category'] != 'PORNOGRAPHY/OBSCENE MAT']\n",
    "df_train = df_train.loc[df_train['Category'] != 'TREA']\n",
    "\n",
    "df_train['Category'].value_counts()"
   ]
  },
  {
   "cell_type": "code",
   "execution_count": 5,
   "metadata": {
    "collapsed": false
   },
   "outputs": [
    {
     "name": "stdout",
     "output_type": "stream",
     "text": [
      "800 Block of BRYANT ST      26491\n",
      "800 Block of MARKET ST       6578\n",
      "2000 Block of MISSION ST     5088\n",
      "1000 Block of POTRERO AV     4056\n",
      "16TH ST / MISSION ST         3804\n",
      "900 Block of MARKET ST       3251\n",
      "0 Block of TURK ST           3228\n",
      "0 Block of 6TH ST            2879\n",
      "300 Block of ELLIS ST        2700\n",
      "400 Block of ELLIS ST        2585\n",
      "Name: Address, dtype: int64\n"
     ]
    }
   ],
   "source": [
    "# Fix data input errors for Address\n",
    "# http://stackoverflow.com/questions/36909977/update-row-values-where-certain-condition-is-met-in-pandas\n",
    "#df_train.loc[df_train['Address'] == 'MISSION ST / 16TH ST', ['Address']] = '16TH ST / MISSION ST'\n",
    "#print df_train['Address'].value_counts()[:10]"
   ]
  },
  {
   "cell_type": "code",
   "execution_count": 6,
   "metadata": {
    "collapsed": false
   },
   "outputs": [
    {
     "name": "stdout",
     "output_type": "stream",
     "text": [
      "MISSION ST     35393\n",
      "MARKET ST      35078\n",
      "BRYANT ST      29952\n",
      "TURK ST        15569\n",
      "EDDY ST        13143\n",
      "ELLIS ST       12520\n",
      "3RD ST         12137\n",
      "16TH ST        11776\n",
      "OFARRELL ST    11321\n",
      "6TH ST          9720\n",
      "Name: Address, dtype: int64\n"
     ]
    }
   ],
   "source": [
    "# Simplify Address to street names only\n",
    "# http://stackoverflow.com/questions/4666973/how-to-extract-a-substring-from-inside-a-string-in-python\n",
    "# http://stackoverflow.com/questions/12376863/adding-calculated-columns-to-a-dataframe-in-pandas\n",
    "\n",
    "# Apply a regex function across all rows\n",
    "# First group ([0-9A-Z]+): Any alphanumeric caps (for the street name)\n",
    "# Second group \\s([A-Z]{2}): Whitespace followed by a two letter caps (for ST, AV, RD abbreviations)\n",
    "# Third group |([A-Z-0-9]{4})$: Or match any 4 char alphanumeric at end of string\n",
    "#df_train['Address'] = df_train.apply(lambda row: re.search('([0-9A-Z]+)\\s([A-Z]{2})|([A-Z-0-9]{4})$',row['Address']).group(0), axis=1)\n",
    "\n",
    "#print df_train['Address'].value_counts()[:10]"
   ]
  },
  {
   "cell_type": "code",
   "execution_count": 6,
   "metadata": {
    "collapsed": false
   },
   "outputs": [
    {
     "name": "stdout",
     "output_type": "stream",
     "text": [
      "Dates          object\n",
      "Category       object\n",
      "Descript       object\n",
      "DayOfWeek      object\n",
      "PdDistrict     object\n",
      "Resolution     object\n",
      "Address        object\n",
      "X             float64\n",
      "Y             float64\n",
      "dtype: object\n"
     ]
    }
   ],
   "source": [
    "# Check the datatypes of all columns\n",
    "print df_train.dtypes"
   ]
  },
  {
   "cell_type": "code",
   "execution_count": 6,
   "metadata": {
    "collapsed": false
   },
   "outputs": [
    {
     "name": "stdout",
     "output_type": "stream",
     "text": [
      "Dates         datetime64[ns]\n",
      "Category              object\n",
      "Descript              object\n",
      "DayOfWeek             object\n",
      "PdDistrict            object\n",
      "Resolution            object\n",
      "Address               object\n",
      "X                    float64\n",
      "Y                    float64\n",
      "dtype: object\n"
     ]
    }
   ],
   "source": [
    "# Convert Dates column to the correct dtype\n",
    "df_train['Dates'] = df_train['Dates'].astype('datetime64[ns]')\n",
    "print df_train.dtypes"
   ]
  },
  {
   "cell_type": "markdown",
   "metadata": {},
   "source": [
    "Before creating dummy variables, we would like to drop unnecessary columns for model training.\n",
    "Namely, these columns are Descript and Resolution. If we were to create dummy variables for all categorical columns, then we would end up with a huge table which takes up a lot of memory and space."
   ]
  },
  {
   "cell_type": "code",
   "execution_count": 7,
   "metadata": {
    "collapsed": false
   },
   "outputs": [
    {
     "data": {
      "text/html": [
       "<div>\n",
       "<table border=\"1\" class=\"dataframe\">\n",
       "  <thead>\n",
       "    <tr style=\"text-align: right;\">\n",
       "      <th></th>\n",
       "      <th>X</th>\n",
       "      <th>Y</th>\n",
       "    </tr>\n",
       "  </thead>\n",
       "  <tbody>\n",
       "    <tr>\n",
       "      <th>count</th>\n",
       "      <td>877115.000000</td>\n",
       "      <td>877115.000000</td>\n",
       "    </tr>\n",
       "    <tr>\n",
       "      <th>mean</th>\n",
       "      <td>4.807480</td>\n",
       "      <td>3.631437</td>\n",
       "    </tr>\n",
       "    <tr>\n",
       "      <th>std</th>\n",
       "      <td>0.000206</td>\n",
       "      <td>0.000640</td>\n",
       "    </tr>\n",
       "    <tr>\n",
       "      <th>min</th>\n",
       "      <td>4.807008</td>\n",
       "      <td>3.629869</td>\n",
       "    </tr>\n",
       "    <tr>\n",
       "      <th>25%</th>\n",
       "      <td>4.807351</td>\n",
       "      <td>3.631050</td>\n",
       "    </tr>\n",
       "    <tr>\n",
       "      <th>50%</th>\n",
       "      <td>4.807429</td>\n",
       "      <td>3.631659</td>\n",
       "    </tr>\n",
       "    <tr>\n",
       "      <th>75%</th>\n",
       "      <td>4.807564</td>\n",
       "      <td>3.631895</td>\n",
       "    </tr>\n",
       "    <tr>\n",
       "      <th>max</th>\n",
       "      <td>4.808222</td>\n",
       "      <td>3.632837</td>\n",
       "    </tr>\n",
       "  </tbody>\n",
       "</table>\n",
       "</div>"
      ],
      "text/plain": [
       "                   X              Y\n",
       "count  877115.000000  877115.000000\n",
       "mean        4.807480       3.631437\n",
       "std         0.000206       0.000640\n",
       "min         4.807008       3.629869\n",
       "25%         4.807351       3.631050\n",
       "50%         4.807429       3.631659\n",
       "75%         4.807564       3.631895\n",
       "max         4.808222       3.632837"
      ]
     },
     "metadata": {},
     "output_type": "display_data"
    },
    {
     "data": {
      "text/plain": [
       "<seaborn.axisgrid.PairGrid at 0x7fbc81a30310>"
      ]
     },
     "execution_count": 7,
     "metadata": {},
     "output_type": "execute_result"
    },
    {
     "data": {
      "image/png": "[encoded data removed]",
      "text/plain": [
       "<matplotlib.figure.Figure at 0x7fbc817b7850>"
      ]
     },
     "metadata": {},
     "output_type": "display_data"
    }
   ],
   "source": [
    "# Convert longitude and latitude into natural log to spread out the skewness\n",
    "df_train['X'] = df_train['X'].map(lambda x: np.log(-x))\n",
    "df_train['Y'] = df_train['Y'].map(lambda x: np.log(x))\n",
    "\n",
    "display(df_train.describe())\n",
    "sns.pairplot(df_train)"
   ]
  },
  {
   "cell_type": "code",
   "execution_count": 8,
   "metadata": {
    "collapsed": false
   },
   "outputs": [
    {
     "data": {
      "text/html": [
       "<div>\n",
       "<table border=\"1\" class=\"dataframe\">\n",
       "  <thead>\n",
       "    <tr style=\"text-align: right;\">\n",
       "      <th></th>\n",
       "      <th>Dates</th>\n",
       "      <th>Category</th>\n",
       "      <th>Descript</th>\n",
       "      <th>DayOfWeek</th>\n",
       "      <th>PdDistrict</th>\n",
       "      <th>Resolution</th>\n",
       "      <th>Address</th>\n",
       "      <th>X</th>\n",
       "      <th>Y</th>\n",
       "      <th>TimeOfDay</th>\n",
       "    </tr>\n",
       "  </thead>\n",
       "  <tbody>\n",
       "    <tr>\n",
       "      <th>0</th>\n",
       "      <td>2015-05-13 23:53:00</td>\n",
       "      <td>WARRANTS</td>\n",
       "      <td>WARRANT ARREST</td>\n",
       "      <td>Wednesday</td>\n",
       "      <td>NORTHERN</td>\n",
       "      <td>ARREST, BOOKED</td>\n",
       "      <td>OAK ST / LAGUNA ST</td>\n",
       "      <td>4.807506</td>\n",
       "      <td>3.631637</td>\n",
       "      <td>Night</td>\n",
       "    </tr>\n",
       "    <tr>\n",
       "      <th>1</th>\n",
       "      <td>2015-05-13 23:53:00</td>\n",
       "      <td>OTHER OFFENSES</td>\n",
       "      <td>TRAFFIC VIOLATION ARREST</td>\n",
       "      <td>Wednesday</td>\n",
       "      <td>NORTHERN</td>\n",
       "      <td>ARREST, BOOKED</td>\n",
       "      <td>OAK ST / LAGUNA ST</td>\n",
       "      <td>4.807506</td>\n",
       "      <td>3.631637</td>\n",
       "      <td>Night</td>\n",
       "    </tr>\n",
       "    <tr>\n",
       "      <th>2</th>\n",
       "      <td>2015-05-13 23:33:00</td>\n",
       "      <td>OTHER OFFENSES</td>\n",
       "      <td>TRAFFIC VIOLATION ARREST</td>\n",
       "      <td>Wednesday</td>\n",
       "      <td>NORTHERN</td>\n",
       "      <td>ARREST, BOOKED</td>\n",
       "      <td>VANNESS AV / GREENWICH ST</td>\n",
       "      <td>4.807493</td>\n",
       "      <td>3.632320</td>\n",
       "      <td>Night</td>\n",
       "    </tr>\n",
       "    <tr>\n",
       "      <th>3</th>\n",
       "      <td>2015-05-13 23:30:00</td>\n",
       "      <td>LARCENY/THEFT</td>\n",
       "      <td>GRAND THEFT FROM LOCKED AUTO</td>\n",
       "      <td>Wednesday</td>\n",
       "      <td>NORTHERN</td>\n",
       "      <td>NONE</td>\n",
       "      <td>1500 Block of LOMBARD ST</td>\n",
       "      <td>4.807515</td>\n",
       "      <td>3.632332</td>\n",
       "      <td>Night</td>\n",
       "    </tr>\n",
       "    <tr>\n",
       "      <th>4</th>\n",
       "      <td>2015-05-13 23:30:00</td>\n",
       "      <td>LARCENY/THEFT</td>\n",
       "      <td>GRAND THEFT FROM LOCKED AUTO</td>\n",
       "      <td>Wednesday</td>\n",
       "      <td>PARK</td>\n",
       "      <td>NONE</td>\n",
       "      <td>100 Block of BRODERICK ST</td>\n",
       "      <td>4.807611</td>\n",
       "      <td>3.631556</td>\n",
       "      <td>Night</td>\n",
       "    </tr>\n",
       "  </tbody>\n",
       "</table>\n",
       "</div>"
      ],
      "text/plain": [
       "                Dates        Category                      Descript  \\\n",
       "0 2015-05-13 23:53:00        WARRANTS                WARRANT ARREST   \n",
       "1 2015-05-13 23:53:00  OTHER OFFENSES      TRAFFIC VIOLATION ARREST   \n",
       "2 2015-05-13 23:33:00  OTHER OFFENSES      TRAFFIC VIOLATION ARREST   \n",
       "3 2015-05-13 23:30:00   LARCENY/THEFT  GRAND THEFT FROM LOCKED AUTO   \n",
       "4 2015-05-13 23:30:00   LARCENY/THEFT  GRAND THEFT FROM LOCKED AUTO   \n",
       "\n",
       "   DayOfWeek PdDistrict      Resolution                    Address         X  \\\n",
       "0  Wednesday   NORTHERN  ARREST, BOOKED         OAK ST / LAGUNA ST  4.807506   \n",
       "1  Wednesday   NORTHERN  ARREST, BOOKED         OAK ST / LAGUNA ST  4.807506   \n",
       "2  Wednesday   NORTHERN  ARREST, BOOKED  VANNESS AV / GREENWICH ST  4.807493   \n",
       "3  Wednesday   NORTHERN            NONE   1500 Block of LOMBARD ST  4.807515   \n",
       "4  Wednesday       PARK            NONE  100 Block of BRODERICK ST  4.807611   \n",
       "\n",
       "          Y TimeOfDay  \n",
       "0  3.631637     Night  \n",
       "1  3.631637     Night  \n",
       "2  3.632320     Night  \n",
       "3  3.632332     Night  \n",
       "4  3.631556     Night  "
      ]
     },
     "metadata": {},
     "output_type": "display_data"
    }
   ],
   "source": [
    "# Extract time from Dates and add a new column TimeOfDay representing Day/Night\n",
    "# Day: 6:00AM - 5:59PM, Night: 6:00PM - 5:59AM\n",
    "from datetime import datetime\n",
    "\n",
    "time_of_day = []\n",
    "start_t = datetime.strptime('06:00', '%H:%M').time()\n",
    "end_t = datetime.strptime('18:00', '%H:%M').time()\n",
    "\n",
    "for row in df_train['Dates']:\n",
    "    if start_t <= row.time() < end_t:\n",
    "        time_of_day.append('Day')\n",
    "    else:\n",
    "        time_of_day.append('Night')\n",
    "        \n",
    "df_train['TimeOfDay'] = time_of_day\n",
    "\n",
    "display(df_train.head())"
   ]
  },
  {
   "cell_type": "code",
   "execution_count": 9,
   "metadata": {
    "collapsed": false
   },
   "outputs": [
    {
     "name": "stdout",
     "output_type": "stream",
     "text": [
      "Category       object\n",
      "DayOfWeek      object\n",
      "PdDistrict     object\n",
      "Address        object\n",
      "X             float64\n",
      "Y             float64\n",
      "TimeOfDay      object\n",
      "dtype: object\n"
     ]
    }
   ],
   "source": [
    "# Drop Descript, Resolution, Date columns\n",
    "df_train.drop(['Descript', 'Resolution', 'Dates'], axis=1, inplace=True)\n",
    "\n",
    "print df_train.dtypes"
   ]
  },
  {
   "cell_type": "code",
   "execution_count": 10,
   "metadata": {
    "collapsed": false
   },
   "outputs": [
    {
     "name": "stdout",
     "output_type": "stream",
     "text": [
      "Processed feature columns (23 total features):\n",
      "['Category', 'Address', 'X', 'Y', 'Day_Friday', 'Day_Monday', 'Day_Saturday', 'Day_Sunday', 'Day_Thursday', 'Day_Tuesday', 'Day_Wednesday', 'PD_BAYVIEW', 'PD_CENTRAL', 'PD_INGLESIDE', 'PD_MISSION', 'PD_NORTHERN', 'PD_PARK', 'PD_RICHMOND', 'PD_SOUTHERN', 'PD_TARAVAL', 'PD_TENDERLOIN', 'Time_Day', 'Time_Night']\n"
     ]
    }
   ],
   "source": [
    "# Create dummy variables for all categorical features in training set\n",
    "df_X1 = pd.get_dummies(df_train['DayOfWeek'], prefix = 'Day')\n",
    "df_X2 = pd.get_dummies(df_train['PdDistrict'], prefix = 'PD')\n",
    "df_X3 = pd.get_dummies(df_train['TimeOfDay'], prefix = 'Time')\n",
    "#df_X4 = pd.get_dummies(df_train['Address'], prefix = 'Add') # Not enough memory to execute\n",
    "\n",
    "df_train = df_train.join(df_X1)\n",
    "df_train = df_train.join(df_X2)\n",
    "df_train = df_train.join(df_X3)\n",
    "df_train.drop(['DayOfWeek', 'PdDistrict', 'TimeOfDay'], axis = 1, inplace = True)\n",
    "print \"Processed feature columns ({} total features):\\n{}\".format(len(df_train.columns), list(df_train.columns))"
   ]
  },
  {
   "cell_type": "code",
   "execution_count": 12,
   "metadata": {
    "collapsed": false
   },
   "outputs": [
    {
     "name": "stdout",
     "output_type": "stream",
     "text": [
      "Category          object\n",
      "X                float64\n",
      "Y                float64\n",
      "Day_Friday       float64\n",
      "Day_Monday       float64\n",
      "Day_Saturday     float64\n",
      "Day_Sunday       float64\n",
      "Day_Thursday     float64\n",
      "Day_Tuesday      float64\n",
      "Day_Wednesday    float64\n",
      "PD_BAYVIEW       float64\n",
      "PD_CENTRAL       float64\n",
      "PD_INGLESIDE     float64\n",
      "PD_MISSION       float64\n",
      "PD_NORTHERN      float64\n",
      "PD_PARK          float64\n",
      "PD_RICHMOND      float64\n",
      "PD_SOUTHERN      float64\n",
      "PD_TARAVAL       float64\n",
      "PD_TENDERLOIN    float64\n",
      "Time_Day         float64\n",
      "Time_Night       float64\n",
      "dtype: object\n"
     ]
    }
   ],
   "source": [
    "# Since we are unable to preprocess Address, we will drop them for the model training\n",
    "# Drop Address column\n",
    "df_train.drop(['Address'], axis = 1, inplace = True)\n",
    "\n",
    "print df_train.dtypes"
   ]
  },
  {
   "cell_type": "code",
   "execution_count": 13,
   "metadata": {
    "collapsed": true
   },
   "outputs": [],
   "source": [
    "# Saves preprocessed dataset into pickle\n",
    "df_train.to_pickle('preprocess_2.pickle')"
   ]
  }
 ],
 "metadata": {
  "anaconda-cloud": {},
  "hide_input": false,
  "kernelspec": {
   "display_name": "Python [Root]",
   "language": "python",
   "name": "Python [Root]"
  },
  "language_info": {
   "codemirror_mode": {
    "name": "ipython",
    "version": 2
   },
   "file_extension": ".py",
   "mimetype": "text/x-python",
   "name": "python",
   "nbconvert_exporter": "python",
   "pygments_lexer": "ipython2",
   "version": "2.7.12"
  }
 },
 "nbformat": 4,
 "nbformat_minor": 0
}
